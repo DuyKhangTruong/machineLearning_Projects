{
 "cells": [
  {
   "cell_type": "code",
   "execution_count": 2,
   "metadata": {},
   "outputs": [],
   "source": [
    "from __future__ import division, print_function, unicode_literals\n",
    "import numpy as np\n",
    "import matplotlib.pyplot as plt"
   ]
  },
  {
   "cell_type": "code",
   "execution_count": 8,
   "metadata": {},
   "outputs": [],
   "source": [
    "X = np.array([[147, 150, 153, 158, 163, 165, 168, 170, 173, 175, 178, 180, 183]]).T\n",
    "y = np.array([[ 49, 50, 51,  54, 58, 59, 60, 62, 63, 64, 66, 67, 68]]).T"
   ]
  },
  {
   "cell_type": "code",
   "execution_count": 13,
   "metadata": {},
   "outputs": [
    {
     "data": {
      "text/plain": [
       "Text(0, 0.5, 'weight (kg)')"
      ]
     },
     "execution_count": 13,
     "metadata": {},
     "output_type": "execute_result"
    },
    {
     "data": {
      "image/png": "[encoded data removed]",
      "text/plain": [
       "<Figure size 432x288 with 1 Axes>"
      ]
     },
     "metadata": {
      "needs_background": "light"
     },
     "output_type": "display_data"
    }
   ],
   "source": [
    "plt.plot(X,y,\"ro\")\n",
    "plt.axis([140,190,45,75])\n",
    "plt.xlabel(\"height (cm)\")\n",
    "plt.ylabel(\"weight (kg)\")"
   ]
  },
  {
   "cell_type": "code",
   "execution_count": 15,
   "metadata": {},
   "outputs": [
    {
     "name": "stdout",
     "output_type": "stream",
     "text": [
      "w = [[-33.73541021]\n",
      " [  0.55920496]]\n"
     ]
    },
    {
     "data": {
      "text/plain": [
       "Text(0, 0.5, 'Weight (kg)')"
      ]
     },
     "execution_count": 15,
     "metadata": {},
     "output_type": "execute_result"
    },
    {
     "data": {
      "image/png": "[encoded data removed]",
      "text/plain": [
       "<Figure size 432x288 with 1 Axes>"
      ]
     },
     "metadata": {
      "needs_background": "light"
     },
     "output_type": "display_data"
    }
   ],
   "source": [
    "#Building Xbar\n",
    "one = np.ones((X.shape[0],1))\n",
    "Xbar = np.concatenate((one,X),axis=1)\n",
    "\n",
    "# Calculating weights of the fitting line\n",
    "A = np.dot(Xbar.T,Xbar)\n",
    "b = np.dot(Xbar.T,y)\n",
    "w = np.dot(np.linalg.pinv(A),b)\n",
    "print(\"w =\" , w)\n",
    "\n",
    "#Preparing the fitting line\n",
    "w_0 = w[0][0]\n",
    "w_1 = w[1][0]\n",
    "\n",
    "x0 = np.linspace(145,185,2)\n",
    "y0 = w_0 + w_1*x0\n",
    "\n",
    "#Drawing the fitting line\n",
    "plt.plot(X.T,y.T,\"ro\") # data\n",
    "plt.plot(x0,y0)\n",
    "plt.axis([140,190,45,75])\n",
    "plt.xlabel('height (cm)')\n",
    "plt.ylabel('Weight (kg)')\n",
    "\n"
   ]
  },
  {
   "cell_type": "code",
   "execution_count": 16,
   "metadata": {},
   "outputs": [
    {
     "name": "stdout",
     "output_type": "stream",
     "text": [
      "Predict weight of person with height 155 cm: 52.94 (kg), real number: 52 (kg)\n",
      "Predict weight of person with height 160 cm: 55.74 (kg), real number: 56 (kg)\n"
     ]
    }
   ],
   "source": [
    "y1 = w_1*155 + w_0\n",
    "y2 = w_1*160 + w_0\n",
    "\n",
    "print( u'Predict weight of person with height 155 cm: %.2f (kg), real number: 52 (kg)'  %(y1) )\n",
    "print( u'Predict weight of person with height 160 cm: %.2f (kg), real number: 56 (kg)'  %(y2) )"
   ]
  },
  {
   "cell_type": "code",
   "execution_count": 17,
   "metadata": {},
   "outputs": [
    {
     "name": "stdout",
     "output_type": "stream",
     "text": [
      "Solution found by scikit-learn :  [[-33.73541021   0.55920496]]\n",
      "Solution found by (5) :  [[-33.73541021   0.55920496]]\n"
     ]
    }
   ],
   "source": [
    "from sklearn import datasets, linear_model\n",
    "\n",
    "# fit the model by Linear Regression\n",
    "regr = linear_model.LinearRegression(fit_intercept=False)\n",
    "regr.fit(Xbar,y)\n",
    "\n",
    "#compare two results\n",
    "print(\"Solution found by scikit-learn : \",regr.coef_)\n",
    "print('Solution found by (5) : ',w.T)"
   ]
  },
  {
   "cell_type": "code",
   "execution_count": null,
   "metadata": {},
   "outputs": [],
   "source": []
  }
 ],
 "metadata": {
  "kernelspec": {
   "display_name": "Python 3",
   "language": "python",
   "name": "python3"
  },
  "language_info": {
   "codemirror_mode": {
    "name": "ipython",
    "version": 3
   },
   "file_extension": ".py",
   "mimetype": "text/x-python",
   "name": "python",
   "nbconvert_exporter": "python",
   "pygments_lexer": "ipython3",
   "version": "3.7.3"
  }
 },
 "nbformat": 4,
 "nbformat_minor": 4
}
