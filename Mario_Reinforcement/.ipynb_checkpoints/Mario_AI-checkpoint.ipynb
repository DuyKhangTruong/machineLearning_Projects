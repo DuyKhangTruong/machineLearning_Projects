{
 "cells": [
  {
   "cell_type": "code",
   "execution_count": 7,
   "id": "6ef2e24a-c73c-4759-8f65-b8164d1ee256",
   "metadata": {},
   "outputs": [
    {
     "name": "stdout",
     "output_type": "stream",
     "text": [
      "Requirement already satisfied: gym-super-mario-bros in /Users/nguyentruongduykhang/anaconda3/envs/MachineLearning/lib/python3.9/site-packages (7.3.2)\n",
      "Requirement already satisfied: nes_py in /Users/nguyentruongduykhang/anaconda3/envs/MachineLearning/lib/python3.9/site-packages (8.1.8)\n",
      "Requirement already satisfied: gym>=0.17.2 in /Users/nguyentruongduykhang/anaconda3/envs/MachineLearning/lib/python3.9/site-packages (from nes_py) (0.21.0)\n",
      "Requirement already satisfied: numpy>=1.18.5 in /Users/nguyentruongduykhang/anaconda3/envs/MachineLearning/lib/python3.9/site-packages (from nes_py) (1.21.2)\n",
      "Requirement already satisfied: tqdm>=4.48.2 in /Users/nguyentruongduykhang/anaconda3/envs/MachineLearning/lib/python3.9/site-packages (from nes_py) (4.62.3)\n",
      "Requirement already satisfied: pyglet<=1.5.11,>=1.4.0 in /Users/nguyentruongduykhang/anaconda3/envs/MachineLearning/lib/python3.9/site-packages (from nes_py) (1.5.11)\n",
      "Requirement already satisfied: cloudpickle>=1.2.0 in /Users/nguyentruongduykhang/anaconda3/envs/MachineLearning/lib/python3.9/site-packages (from gym>=0.17.2->nes_py) (2.0.0)\n"
     ]
    }
   ],
   "source": [
    "!pip install gym-super-mario-bros nes_py"
   ]
  },
  {
   "cell_type": "code",
   "execution_count": 1,
   "id": "c4fd499c-c767-4c07-9146-07f0e49ebcb9",
   "metadata": {},
   "outputs": [],
   "source": [
    "#import game\n",
    "import gym_super_mario_bros\n",
    "#import joypad\n",
    "from nes_py.wrappers import JoypadSpace\n",
    "#Import the SIMPLIFIED controls\n",
    "from gym_super_mario_bros.actions import SIMPLE_MOVEMENT"
   ]
  },
  {
   "cell_type": "code",
   "execution_count": 2,
   "id": "ae445a60-4232-4e88-8014-b6d1cdf6a66c",
   "metadata": {},
   "outputs": [
    {
     "data": {
      "text/plain": [
       "[['NOOP'],\n",
       " ['right'],\n",
       " ['right', 'A'],\n",
       " ['right', 'B'],\n",
       " ['right', 'A', 'B'],\n",
       " ['A'],\n",
       " ['left']]"
      ]
     },
     "execution_count": 2,
     "metadata": {},
     "output_type": "execute_result"
    }
   ],
   "source": [
    "SIMPLE_MOVEMENT"
   ]
  },
  {
   "cell_type": "code",
   "execution_count": 3,
   "id": "5dea068e-4c3f-403b-8df1-85e4d3b44196",
   "metadata": {},
   "outputs": [],
   "source": [
    "# Setup Game\n",
    "env = gym_super_mario_bros.make(\"SuperMarioBros-v0\")\n",
    "env = JoypadSpace(env,SIMPLE_MOVEMENT)"
   ]
  },
  {
   "cell_type": "code",
   "execution_count": 5,
   "id": "66cc7ec3-87e2-405e-98ec-ea8b7cbcdfae",
   "metadata": {},
   "outputs": [
    {
     "name": "stderr",
     "output_type": "stream",
     "text": [
      "2022-01-05 13:29:28.385 python[97152:4217964] Warning: Expected min height of view: (<NSPopoverTouchBarItemButton: 0x7f79e4ccf3d0>) to be less than or equal to 30 but got a height of 32.000000. This error will be logged once per view in violation.\n",
      "2022-01-05 13:29:28.386 python[97152:4217964] Warning: Expected min height of view: (<NSButton: 0x7f79e4ce54a0>) to be less than or equal to 30 but got a height of 32.000000. This error will be logged once per view in violation.\n",
      "2022-01-05 13:29:28.390 python[97152:4217964] Warning: Expected min height of view: (<NSPopoverTouchBarItemButton: 0x7f79e4ce5960>) to be less than or equal to 30 but got a height of 32.000000. This error will be logged once per view in violation.\n",
      "2022-01-05 13:29:28.392 python[97152:4217964] Warning: Expected min height of view: (<NSPopoverTouchBarItemButton: 0x7f79e4ce83d0>) to be less than or equal to 30 but got a height of 32.000000. This error will be logged once per view in violation.\n"
     ]
    },
    {
     "ename": "KeyboardInterrupt",
     "evalue": "",
     "output_type": "error",
     "traceback": [
      "\u001b[0;31m---------------------------------------------------------------------------\u001b[0m",
      "\u001b[0;31mKeyboardInterrupt\u001b[0m                         Traceback (most recent call last)",
      "\u001b[0;32m/var/folders/z5/dg7ps_710kgc9srk6qbp57280000gn/T/ipykernel_97152/4273831962.py\u001b[0m in \u001b[0;36m<module>\u001b[0;34m\u001b[0m\n\u001b[1;32m      3\u001b[0m     \u001b[0;32mif\u001b[0m \u001b[0mdone\u001b[0m\u001b[0;34m:\u001b[0m\u001b[0;34m\u001b[0m\u001b[0;34m\u001b[0m\u001b[0m\n\u001b[1;32m      4\u001b[0m         \u001b[0menv\u001b[0m\u001b[0;34m.\u001b[0m\u001b[0mreset\u001b[0m\u001b[0;34m(\u001b[0m\u001b[0;34m)\u001b[0m\u001b[0;34m\u001b[0m\u001b[0;34m\u001b[0m\u001b[0m\n\u001b[0;32m----> 5\u001b[0;31m     \u001b[0mstate\u001b[0m\u001b[0;34m,\u001b[0m\u001b[0mreward\u001b[0m\u001b[0;34m,\u001b[0m\u001b[0mdone\u001b[0m\u001b[0;34m,\u001b[0m\u001b[0minfo\u001b[0m \u001b[0;34m=\u001b[0m \u001b[0menv\u001b[0m\u001b[0;34m.\u001b[0m\u001b[0mstep\u001b[0m\u001b[0;34m(\u001b[0m\u001b[0menv\u001b[0m\u001b[0;34m.\u001b[0m\u001b[0maction_space\u001b[0m\u001b[0;34m.\u001b[0m\u001b[0msample\u001b[0m\u001b[0;34m(\u001b[0m\u001b[0;34m)\u001b[0m\u001b[0;34m)\u001b[0m\u001b[0;34m\u001b[0m\u001b[0;34m\u001b[0m\u001b[0m\n\u001b[0m\u001b[1;32m      6\u001b[0m     \u001b[0menv\u001b[0m\u001b[0;34m.\u001b[0m\u001b[0mrender\u001b[0m\u001b[0;34m(\u001b[0m\u001b[0;34m)\u001b[0m\u001b[0;34m\u001b[0m\u001b[0;34m\u001b[0m\u001b[0m\n\u001b[1;32m      7\u001b[0m \u001b[0menv\u001b[0m\u001b[0;34m.\u001b[0m\u001b[0mclose\u001b[0m\u001b[0;34m(\u001b[0m\u001b[0;34m)\u001b[0m\u001b[0;34m\u001b[0m\u001b[0;34m\u001b[0m\u001b[0m\n",
      "\u001b[0;32m~/anaconda3/envs/MachineLearning/lib/python3.9/site-packages/nes_py/wrappers/joypad_space.py\u001b[0m in \u001b[0;36mstep\u001b[0;34m(self, action)\u001b[0m\n\u001b[1;32m     72\u001b[0m         \"\"\"\n\u001b[1;32m     73\u001b[0m         \u001b[0;31m# take the step and record the output\u001b[0m\u001b[0;34m\u001b[0m\u001b[0;34m\u001b[0m\u001b[0m\n\u001b[0;32m---> 74\u001b[0;31m         \u001b[0;32mreturn\u001b[0m \u001b[0mself\u001b[0m\u001b[0;34m.\u001b[0m\u001b[0menv\u001b[0m\u001b[0;34m.\u001b[0m\u001b[0mstep\u001b[0m\u001b[0;34m(\u001b[0m\u001b[0mself\u001b[0m\u001b[0;34m.\u001b[0m\u001b[0m_action_map\u001b[0m\u001b[0;34m[\u001b[0m\u001b[0maction\u001b[0m\u001b[0;34m]\u001b[0m\u001b[0;34m)\u001b[0m\u001b[0;34m\u001b[0m\u001b[0;34m\u001b[0m\u001b[0m\n\u001b[0m\u001b[1;32m     75\u001b[0m \u001b[0;34m\u001b[0m\u001b[0m\n\u001b[1;32m     76\u001b[0m     \u001b[0;32mdef\u001b[0m \u001b[0mreset\u001b[0m\u001b[0;34m(\u001b[0m\u001b[0mself\u001b[0m\u001b[0;34m)\u001b[0m\u001b[0;34m:\u001b[0m\u001b[0;34m\u001b[0m\u001b[0;34m\u001b[0m\u001b[0m\n",
      "\u001b[0;32m~/anaconda3/envs/MachineLearning/lib/python3.9/site-packages/gym/wrappers/time_limit.py\u001b[0m in \u001b[0;36mstep\u001b[0;34m(self, action)\u001b[0m\n\u001b[1;32m     16\u001b[0m             \u001b[0mself\u001b[0m\u001b[0;34m.\u001b[0m\u001b[0m_elapsed_steps\u001b[0m \u001b[0;32mis\u001b[0m \u001b[0;32mnot\u001b[0m \u001b[0;32mNone\u001b[0m\u001b[0;34m\u001b[0m\u001b[0;34m\u001b[0m\u001b[0m\n\u001b[1;32m     17\u001b[0m         ), \"Cannot call env.step() before calling reset()\"\n\u001b[0;32m---> 18\u001b[0;31m         \u001b[0mobservation\u001b[0m\u001b[0;34m,\u001b[0m \u001b[0mreward\u001b[0m\u001b[0;34m,\u001b[0m \u001b[0mdone\u001b[0m\u001b[0;34m,\u001b[0m \u001b[0minfo\u001b[0m \u001b[0;34m=\u001b[0m \u001b[0mself\u001b[0m\u001b[0;34m.\u001b[0m\u001b[0menv\u001b[0m\u001b[0;34m.\u001b[0m\u001b[0mstep\u001b[0m\u001b[0;34m(\u001b[0m\u001b[0maction\u001b[0m\u001b[0;34m)\u001b[0m\u001b[0;34m\u001b[0m\u001b[0;34m\u001b[0m\u001b[0m\n\u001b[0m\u001b[1;32m     19\u001b[0m         \u001b[0mself\u001b[0m\u001b[0;34m.\u001b[0m\u001b[0m_elapsed_steps\u001b[0m \u001b[0;34m+=\u001b[0m \u001b[0;36m1\u001b[0m\u001b[0;34m\u001b[0m\u001b[0;34m\u001b[0m\u001b[0m\n\u001b[1;32m     20\u001b[0m         \u001b[0;32mif\u001b[0m \u001b[0mself\u001b[0m\u001b[0;34m.\u001b[0m\u001b[0m_elapsed_steps\u001b[0m \u001b[0;34m>=\u001b[0m \u001b[0mself\u001b[0m\u001b[0;34m.\u001b[0m\u001b[0m_max_episode_steps\u001b[0m\u001b[0;34m:\u001b[0m\u001b[0;34m\u001b[0m\u001b[0;34m\u001b[0m\u001b[0m\n",
      "\u001b[0;32m~/anaconda3/envs/MachineLearning/lib/python3.9/site-packages/nes_py/nes_env.py\u001b[0m in \u001b[0;36mstep\u001b[0;34m(self, action)\u001b[0m\n\u001b[1;32m    291\u001b[0m         \u001b[0mself\u001b[0m\u001b[0;34m.\u001b[0m\u001b[0mcontrollers\u001b[0m\u001b[0;34m[\u001b[0m\u001b[0;36m0\u001b[0m\u001b[0;34m]\u001b[0m\u001b[0;34m[\u001b[0m\u001b[0;34m:\u001b[0m\u001b[0;34m]\u001b[0m \u001b[0;34m=\u001b[0m \u001b[0maction\u001b[0m\u001b[0;34m\u001b[0m\u001b[0;34m\u001b[0m\u001b[0m\n\u001b[1;32m    292\u001b[0m         \u001b[0;31m# pass the action to the emulator as an unsigned byte\u001b[0m\u001b[0;34m\u001b[0m\u001b[0;34m\u001b[0m\u001b[0m\n\u001b[0;32m--> 293\u001b[0;31m         \u001b[0m_LIB\u001b[0m\u001b[0;34m.\u001b[0m\u001b[0mStep\u001b[0m\u001b[0;34m(\u001b[0m\u001b[0mself\u001b[0m\u001b[0;34m.\u001b[0m\u001b[0m_env\u001b[0m\u001b[0;34m)\u001b[0m\u001b[0;34m\u001b[0m\u001b[0;34m\u001b[0m\u001b[0m\n\u001b[0m\u001b[1;32m    294\u001b[0m         \u001b[0;31m# get the reward for this step\u001b[0m\u001b[0;34m\u001b[0m\u001b[0;34m\u001b[0m\u001b[0m\n\u001b[1;32m    295\u001b[0m         \u001b[0mreward\u001b[0m \u001b[0;34m=\u001b[0m \u001b[0mself\u001b[0m\u001b[0;34m.\u001b[0m\u001b[0m_get_reward\u001b[0m\u001b[0;34m(\u001b[0m\u001b[0;34m)\u001b[0m\u001b[0;34m\u001b[0m\u001b[0;34m\u001b[0m\u001b[0m\n",
      "\u001b[0;31mKeyboardInterrupt\u001b[0m: "
     ]
    }
   ],
   "source": [
    "done = True\n",
    "for step in range(100000):\n",
    "    if done:\n",
    "        env.reset()\n",
    "    state,reward,done,info = env.step(env.action_space.sample())\n",
    "    env.render()\n",
    "env.close()"
   ]
  },
  {
   "cell_type": "code",
   "execution_count": 17,
   "id": "066a155b-6d00-4696-a3fd-9207bb85ec7c",
   "metadata": {},
   "outputs": [
    {
     "name": "stdout",
     "output_type": "stream",
     "text": [
      "Collecting package metadata (current_repodata.json): done\n",
      "Solving environment: done\n",
      "\n",
      "\n",
      "==> WARNING: A newer version of conda exists. <==\n",
      "  current version: 4.10.3\n",
      "  latest version: 4.11.0\n",
      "\n",
      "Please update conda by running\n",
      "\n",
      "    $ conda update -n base -c defaults conda\n",
      "\n",
      "\n",
      "\n",
      "## Package Plan ##\n",
      "\n",
      "  environment location: /Users/nguyentruongduykhang/anaconda3/envs/MachineLearning\n",
      "\n",
      "  added / updated specs:\n",
      "    - pytorch\n",
      "    - torchaudio\n",
      "    - torchvision\n",
      "\n",
      "\n",
      "The following packages will be downloaded:\n",
      "\n",
      "    package                    |            build\n",
      "    ---------------------------|-----------------\n",
      "    llvm-openmp-12.0.0         |       h0dcd299_1         262 KB\n",
      "    openh264-2.1.1             |       h8346a28_0         655 KB\n",
      "    pytorch-1.10.1             |          py3.9_0        97.9 MB  pytorch\n",
      "    torchaudio-0.10.1          |         py39_cpu         4.0 MB  pytorch\n",
      "    torchvision-0.11.2         |         py39_cpu         7.0 MB  pytorch\n",
      "    typing_extensions-3.10.0.2 |     pyh06a4308_0          31 KB\n",
      "    ------------------------------------------------------------\n",
      "                                           Total:       109.8 MB\n",
      "\n",
      "The following NEW packages will be INSTALLED:\n",
      "\n",
      "  bzip2              pkgs/main/osx-64::bzip2-1.0.8-h1de35cc_0\n",
      "  ffmpeg             pytorch/osx-64::ffmpeg-4.3-h0a44026_0\n",
      "  gettext            pkgs/main/osx-64::gettext-0.21.0-h7535e17_0\n",
      "  gmp                pkgs/main/osx-64::gmp-6.2.1-h23ab428_2\n",
      "  gnutls             pkgs/main/osx-64::gnutls-3.6.15-hed9c0bf_0\n",
      "  icu                pkgs/main/osx-64::icu-58.2-h0a44026_3\n",
      "  lame               pkgs/main/osx-64::lame-3.100-h1de35cc_0\n",
      "  libiconv           pkgs/main/osx-64::libiconv-1.16-h1de35cc_0\n",
      "  libidn2            pkgs/main/osx-64::libidn2-2.3.2-h9ed2024_0\n",
      "  libtasn1           pkgs/main/osx-64::libtasn1-4.16.0-h9ed2024_0\n",
      "  libunistring       pkgs/main/osx-64::libunistring-0.9.10-h9ed2024_0\n",
      "  libuv              pkgs/main/osx-64::libuv-1.40.0-haf1e3a3_0\n",
      "  libxml2            pkgs/main/osx-64::libxml2-2.9.12-hcdb78fc_0\n",
      "  llvm-openmp        pkgs/main/osx-64::llvm-openmp-12.0.0-h0dcd299_1\n",
      "  nettle             pkgs/main/osx-64::nettle-3.7.3-h230ac6f_1\n",
      "  openh264           pkgs/main/osx-64::openh264-2.1.1-h8346a28_0\n",
      "  pytorch            pytorch/osx-64::pytorch-1.10.1-py3.9_0\n",
      "  torchaudio         pytorch/osx-64::torchaudio-0.10.1-py39_cpu\n",
      "  torchvision        pytorch/osx-64::torchvision-0.11.2-py39_cpu\n",
      "  typing_extensions  pkgs/main/noarch::typing_extensions-3.10.0.2-pyh06a4308_0\n",
      "\n",
      "\n",
      "\n",
      "Downloading and Extracting Packages\n",
      "typing_extensions-3. | 31 KB     | ##################################### | 100% \n",
      "llvm-openmp-12.0.0   | 262 KB    | ##################################### | 100% \n",
      "openh264-2.1.1       | 655 KB    | ##################################### | 100% \n",
      "pytorch-1.10.1       | 97.9 MB   | ##################################### | 100% \n",
      "torchaudio-0.10.1    | 4.0 MB    | ##################################### | 100% \n",
      "torchvision-0.11.2   | 7.0 MB    | ##################################### | 100% \n",
      "Preparing transaction: done\n",
      "Verifying transaction: done\n",
      "Executing transaction: done\n"
     ]
    }
   ],
   "source": [
    "#Install pytorch\n",
    "!conda install pytorch torchvision torchaudio -c pytorch -y"
   ]
  },
  {
   "cell_type": "code",
   "execution_count": 19,
   "id": "b2b8e49d-766a-4810-81cc-341d4b372f9e",
   "metadata": {},
   "outputs": [
    {
     "name": "stdout",
     "output_type": "stream",
     "text": [
      "Collecting stable-baselines3[extra]\n",
      "  Downloading stable_baselines3-1.3.0-py3-none-any.whl (174 kB)\n",
      "\u001b[K     |████████████████████████████████| 174 kB 3.5 MB/s eta 0:00:01\n",
      "\u001b[?25hRequirement already satisfied: cloudpickle in /Users/nguyentruongduykhang/anaconda3/envs/MachineLearning/lib/python3.9/site-packages (from stable-baselines3[extra]) (2.0.0)\n",
      "Requirement already satisfied: matplotlib in /Users/nguyentruongduykhang/anaconda3/envs/MachineLearning/lib/python3.9/site-packages (from stable-baselines3[extra]) (3.5.0)\n",
      "Requirement already satisfied: torch>=1.8.1 in /Users/nguyentruongduykhang/anaconda3/envs/MachineLearning/lib/python3.9/site-packages (from stable-baselines3[extra]) (1.10.1)\n",
      "Requirement already satisfied: numpy in /Users/nguyentruongduykhang/anaconda3/envs/MachineLearning/lib/python3.9/site-packages (from stable-baselines3[extra]) (1.21.2)\n",
      "Collecting gym<0.20,>=0.17\n",
      "  Downloading gym-0.19.0.tar.gz (1.6 MB)\n",
      "\u001b[K     |████████████████████████████████| 1.6 MB 45.2 MB/s eta 0:00:01\n",
      "\u001b[?25hRequirement already satisfied: pandas in /Users/nguyentruongduykhang/anaconda3/envs/MachineLearning/lib/python3.9/site-packages (from stable-baselines3[extra]) (1.3.4)\n",
      "Collecting tensorboard>=2.2.0\n",
      "  Downloading tensorboard-2.7.0-py3-none-any.whl (5.8 MB)\n",
      "\u001b[K     |████████████████████████████████| 5.8 MB 21.4 MB/s eta 0:00:01\n",
      "\u001b[?25hCollecting atari-py~=0.2.0\n",
      "  Downloading atari_py-0.2.9-cp39-cp39-macosx_10_12_x86_64.whl (2.4 MB)\n",
      "\u001b[K     |████████████████████████████████| 2.4 MB 70.7 MB/s eta 0:00:01\n",
      "\u001b[?25hRequirement already satisfied: pillow in /Users/nguyentruongduykhang/anaconda3/envs/MachineLearning/lib/python3.9/site-packages (from stable-baselines3[extra]) (8.4.0)\n",
      "Collecting opencv-python\n",
      "  Downloading opencv_python-4.5.5.62-cp36-abi3-macosx_10_15_x86_64.whl (46.0 MB)\n",
      "\u001b[K     |████████████████████████████████| 46.0 MB 65.4 MB/s eta 0:00:01    |██████▎                         | 9.1 MB 28.9 MB/s eta 0:00:02\n",
      "\u001b[?25hCollecting psutil\n",
      "  Downloading psutil-5.9.0-cp39-cp39-macosx_10_9_x86_64.whl (238 kB)\n",
      "\u001b[K     |████████████████████████████████| 238 kB 47.7 MB/s eta 0:00:01\n",
      "\u001b[?25hRequirement already satisfied: six in /Users/nguyentruongduykhang/anaconda3/envs/MachineLearning/lib/python3.9/site-packages (from atari-py~=0.2.0->stable-baselines3[extra]) (1.16.0)\n",
      "Collecting cloudpickle\n",
      "  Downloading cloudpickle-1.6.0-py3-none-any.whl (23 kB)\n",
      "Collecting markdown>=2.6.8\n",
      "  Downloading Markdown-3.3.6-py3-none-any.whl (97 kB)\n",
      "\u001b[K     |████████████████████████████████| 97 kB 12.1 MB/s eta 0:00:01\n",
      "\u001b[?25hCollecting absl-py>=0.4\n",
      "  Downloading absl_py-1.0.0-py3-none-any.whl (126 kB)\n",
      "\u001b[K     |████████████████████████████████| 126 kB 43.1 MB/s eta 0:00:01\n",
      "\u001b[?25hRequirement already satisfied: setuptools>=41.0.0 in /Users/nguyentruongduykhang/anaconda3/envs/MachineLearning/lib/python3.9/site-packages (from tensorboard>=2.2.0->stable-baselines3[extra]) (58.0.4)\n",
      "Collecting werkzeug>=0.11.15\n",
      "  Downloading Werkzeug-2.0.2-py3-none-any.whl (288 kB)\n",
      "\u001b[K     |████████████████████████████████| 288 kB 21.6 MB/s eta 0:00:01\n",
      "\u001b[?25hCollecting tensorboard-plugin-wit>=1.6.0\n",
      "  Downloading tensorboard_plugin_wit-1.8.1-py3-none-any.whl (781 kB)\n",
      "\u001b[K     |████████████████████████████████| 781 kB 49.7 MB/s eta 0:00:01\n",
      "\u001b[?25hCollecting tensorboard-data-server<0.7.0,>=0.6.0\n",
      "  Downloading tensorboard_data_server-0.6.1-py3-none-macosx_10_9_x86_64.whl (3.5 MB)\n",
      "\u001b[K     |████████████████████████████████| 3.5 MB 40.2 MB/s eta 0:00:01\n",
      "\u001b[?25hCollecting google-auth-oauthlib<0.5,>=0.4.1\n",
      "  Downloading google_auth_oauthlib-0.4.6-py2.py3-none-any.whl (18 kB)\n",
      "Requirement already satisfied: wheel>=0.26 in /Users/nguyentruongduykhang/anaconda3/envs/MachineLearning/lib/python3.9/site-packages (from tensorboard>=2.2.0->stable-baselines3[extra]) (0.37.0)\n",
      "Collecting grpcio>=1.24.3\n",
      "  Downloading grpcio-1.43.0-cp39-cp39-macosx_10_10_x86_64.whl (4.2 MB)\n",
      "\u001b[K     |████████████████████████████████| 4.2 MB 51.7 MB/s eta 0:00:01\n",
      "\u001b[?25hCollecting google-auth<3,>=1.6.3\n",
      "  Downloading google_auth-2.3.3-py2.py3-none-any.whl (155 kB)\n",
      "\u001b[K     |████████████████████████████████| 155 kB 52.1 MB/s eta 0:00:01\n",
      "\u001b[?25hRequirement already satisfied: requests<3,>=2.21.0 in /Users/nguyentruongduykhang/anaconda3/envs/MachineLearning/lib/python3.9/site-packages (from tensorboard>=2.2.0->stable-baselines3[extra]) (2.26.0)\n",
      "Collecting protobuf>=3.6.0\n",
      "  Downloading protobuf-3.19.1-cp39-cp39-macosx_10_9_x86_64.whl (1.0 MB)\n",
      "\u001b[K     |████████████████████████████████| 1.0 MB 74.7 MB/s eta 0:00:01\n",
      "\u001b[?25hCollecting rsa<5,>=3.1.4\n",
      "  Downloading rsa-4.8-py3-none-any.whl (39 kB)\n",
      "Collecting cachetools<5.0,>=2.0.0\n",
      "  Downloading cachetools-4.2.4-py3-none-any.whl (10 kB)\n",
      "Collecting pyasn1-modules>=0.2.1\n",
      "  Downloading pyasn1_modules-0.2.8-py2.py3-none-any.whl (155 kB)\n",
      "\u001b[K     |████████████████████████████████| 155 kB 24.2 MB/s eta 0:00:01\n",
      "\u001b[?25hCollecting requests-oauthlib>=0.7.0\n",
      "  Downloading requests_oauthlib-1.3.0-py2.py3-none-any.whl (23 kB)\n",
      "Requirement already satisfied: importlib-metadata>=4.4 in /Users/nguyentruongduykhang/anaconda3/envs/MachineLearning/lib/python3.9/site-packages (from markdown>=2.6.8->tensorboard>=2.2.0->stable-baselines3[extra]) (4.8.2)\n",
      "Requirement already satisfied: zipp>=0.5 in /Users/nguyentruongduykhang/anaconda3/envs/MachineLearning/lib/python3.9/site-packages (from importlib-metadata>=4.4->markdown>=2.6.8->tensorboard>=2.2.0->stable-baselines3[extra]) (3.6.0)\n",
      "Collecting pyasn1<0.5.0,>=0.4.6\n",
      "  Downloading pyasn1-0.4.8-py2.py3-none-any.whl (77 kB)\n",
      "\u001b[K     |████████████████████████████████| 77 kB 9.4 MB/s  eta 0:00:01\n",
      "\u001b[?25hRequirement already satisfied: certifi>=2017.4.17 in /Users/nguyentruongduykhang/anaconda3/envs/MachineLearning/lib/python3.9/site-packages (from requests<3,>=2.21.0->tensorboard>=2.2.0->stable-baselines3[extra]) (2021.10.8)\n",
      "Requirement already satisfied: urllib3<1.27,>=1.21.1 in /Users/nguyentruongduykhang/anaconda3/envs/MachineLearning/lib/python3.9/site-packages (from requests<3,>=2.21.0->tensorboard>=2.2.0->stable-baselines3[extra]) (1.26.7)\n",
      "Requirement already satisfied: idna<4,>=2.5 in /Users/nguyentruongduykhang/anaconda3/envs/MachineLearning/lib/python3.9/site-packages (from requests<3,>=2.21.0->tensorboard>=2.2.0->stable-baselines3[extra]) (3.3)\n",
      "Requirement already satisfied: charset-normalizer~=2.0.0 in /Users/nguyentruongduykhang/anaconda3/envs/MachineLearning/lib/python3.9/site-packages (from requests<3,>=2.21.0->tensorboard>=2.2.0->stable-baselines3[extra]) (2.0.4)\n",
      "Collecting oauthlib>=3.0.0\n",
      "  Downloading oauthlib-3.1.1-py2.py3-none-any.whl (146 kB)\n",
      "\u001b[K     |████████████████████████████████| 146 kB 75.0 MB/s eta 0:00:01\n",
      "\u001b[?25hRequirement already satisfied: typing_extensions in /Users/nguyentruongduykhang/anaconda3/envs/MachineLearning/lib/python3.9/site-packages (from torch>=1.8.1->stable-baselines3[extra]) (3.10.0.2)\n",
      "Requirement already satisfied: fonttools>=4.22.0 in /Users/nguyentruongduykhang/anaconda3/envs/MachineLearning/lib/python3.9/site-packages (from matplotlib->stable-baselines3[extra]) (4.25.0)\n",
      "Requirement already satisfied: cycler>=0.10 in /Users/nguyentruongduykhang/anaconda3/envs/MachineLearning/lib/python3.9/site-packages (from matplotlib->stable-baselines3[extra]) (0.11.0)\n",
      "Requirement already satisfied: kiwisolver>=1.0.1 in /Users/nguyentruongduykhang/anaconda3/envs/MachineLearning/lib/python3.9/site-packages (from matplotlib->stable-baselines3[extra]) (1.3.1)\n",
      "Requirement already satisfied: packaging>=20.0 in /Users/nguyentruongduykhang/anaconda3/envs/MachineLearning/lib/python3.9/site-packages (from matplotlib->stable-baselines3[extra]) (21.3)\n",
      "Requirement already satisfied: pyparsing>=2.2.1 in /Users/nguyentruongduykhang/anaconda3/envs/MachineLearning/lib/python3.9/site-packages (from matplotlib->stable-baselines3[extra]) (3.0.4)\n",
      "Requirement already satisfied: python-dateutil>=2.7 in /Users/nguyentruongduykhang/anaconda3/envs/MachineLearning/lib/python3.9/site-packages (from matplotlib->stable-baselines3[extra]) (2.8.2)\n",
      "Requirement already satisfied: pytz>=2017.3 in /Users/nguyentruongduykhang/anaconda3/envs/MachineLearning/lib/python3.9/site-packages (from pandas->stable-baselines3[extra]) (2021.3)\n",
      "Building wheels for collected packages: gym\n",
      "  Building wheel for gym (setup.py) ... \u001b[?25ldone\n",
      "\u001b[?25h  Created wheel for gym: filename=gym-0.19.0-py3-none-any.whl size=1663114 sha256=f58a6f2f764251275ef4ff16e65ff748a07f92cd9c1a63f97b15579818904917\n",
      "  Stored in directory: /Users/nguyentruongduykhang/Library/Caches/pip/wheels/46/9f/66/e5922382f4e2ecd0bad129510b758c65f0dbb197d5fc04df9a\n",
      "Successfully built gym\n",
      "Installing collected packages: pyasn1, rsa, pyasn1-modules, oauthlib, cachetools, requests-oauthlib, google-auth, cloudpickle, werkzeug, tensorboard-plugin-wit, tensorboard-data-server, protobuf, markdown, gym, grpcio, google-auth-oauthlib, absl-py, tensorboard, stable-baselines3, psutil, opencv-python, atari-py\n",
      "  Attempting uninstall: cloudpickle\n",
      "    Found existing installation: cloudpickle 2.0.0\n",
      "    Uninstalling cloudpickle-2.0.0:\n",
      "      Successfully uninstalled cloudpickle-2.0.0\n",
      "  Attempting uninstall: gym\n",
      "    Found existing installation: gym 0.21.0\n",
      "    Uninstalling gym-0.21.0:\n",
      "      Successfully uninstalled gym-0.21.0\n",
      "Successfully installed absl-py-1.0.0 atari-py-0.2.9 cachetools-4.2.4 cloudpickle-1.6.0 google-auth-2.3.3 google-auth-oauthlib-0.4.6 grpcio-1.43.0 gym-0.19.0 markdown-3.3.6 oauthlib-3.1.1 opencv-python-4.5.5.62 protobuf-3.19.1 psutil-5.9.0 pyasn1-0.4.8 pyasn1-modules-0.2.8 requests-oauthlib-1.3.0 rsa-4.8 stable-baselines3-1.3.0 tensorboard-2.7.0 tensorboard-data-server-0.6.1 tensorboard-plugin-wit-1.8.1 werkzeug-2.0.2\n"
     ]
    }
   ],
   "source": [
    "!pip install 'stable-baselines3[extra]'"
   ]
  },
  {
   "cell_type": "code",
   "execution_count": 20,
   "id": "e36c7963-e504-4717-82df-c5fce6942965",
   "metadata": {},
   "outputs": [],
   "source": [
    "# Preprocess Environment\n",
    "\n",
    "#Import Frame Stacker Wrapper and GrayScaling Wrapper\n",
    "from gym.wrappers import GrayScaleObservation\n",
    "\n",
    "#Import Vectorization Wrappers\n",
    "from stable_baselines3.common.vec_env import VecFrameStack, DummyVecEnv\n",
    "#Import Matplotlib\n",
    "from matplotlib import  pyplot as plt"
   ]
  },
  {
   "cell_type": "code",
   "execution_count": 32,
   "id": "7f442759-869e-4495-ad64-fe4ff1bc731e",
   "metadata": {},
   "outputs": [],
   "source": [
    "# 1.Create the base environment \n",
    "env = gym_super_mario_bros.make(\"SuperMarioBros-v0\")\n",
    "# 2. Simplify the controls\n",
    "env = JoypadSpace(env,SIMPLE_MOVEMENT)\n",
    "# 3. GrayScale\n",
    "env = GrayScaleObservation(env, keep_dim=True)\n",
    "# 4. Wrap inside the Dummy environment\n",
    "env = DummyVecEnv([lambda:env])\n",
    "# 5. Stack the frames\n",
    "env = VecFrameStack(env,4,channels_order=\"last\")"
   ]
  },
  {
   "cell_type": "code",
   "execution_count": 46,
   "id": "48131b64-5b3c-4e56-bc7e-235e53ae4381",
   "metadata": {},
   "outputs": [],
   "source": [
    "state = env.reset()"
   ]
  },
  {
   "cell_type": "code",
   "execution_count": 47,
   "id": "b43788c9-3862-4d53-a0e0-a849246715ba",
   "metadata": {},
   "outputs": [
    {
     "data": {
      "text/plain": [
       "(1, 240, 256, 4)"
      ]
     },
     "execution_count": 47,
     "metadata": {},
     "output_type": "execute_result"
    }
   ],
   "source": [
    "state.shape"
   ]
  },
  {
   "cell_type": "code",
   "execution_count": 56,
   "id": "e8f30b01-1d5a-4ff1-8a30-843fff166ae6",
   "metadata": {},
   "outputs": [],
   "source": [
    "state,reward,done,info = env.step([5])"
   ]
  },
  {
   "cell_type": "code",
   "execution_count": 57,
   "id": "cdd866be-4452-431c-8b70-55bb85384f1c",
   "metadata": {},
   "outputs": [
    {
     "data": {
      "image/png": "[encoded data removed]",
      "text/plain": [
       "<Figure size 720x576 with 4 Axes>"
      ]
     },
     "metadata": {
      "needs_background": "light"
     },
     "output_type": "display_data"
    }
   ],
   "source": [
    "plt.figure(figsize=(10,8))\n",
    "for idx in range(state.shape[3]):\n",
    "    plt.subplot(1,4,idx+1)\n",
    "    plt.imshow(state[0][:,:,idx])\n",
    "plt.show()"
   ]
  },
  {
   "cell_type": "code",
   "execution_count": 58,
   "id": "d5c0876d-dffe-4af9-815e-29ae00f81ace",
   "metadata": {},
   "outputs": [],
   "source": [
    "# Train the RL model"
   ]
  },
  {
   "cell_type": "code",
   "execution_count": 59,
   "id": "84ccabd3-9add-40d5-b88d-ae79522fd306",
   "metadata": {},
   "outputs": [],
   "source": [
    "#Import OS for file path management\n",
    "import os\n",
    "\n",
    "#Import PPO for algos\n",
    "from stable_baselines3 import PPO\n",
    "\n",
    "#Import  Base Callback for saving models\n",
    "from stable_baselines3.common.callbacks import  BaseCallback"
   ]
  },
  {
   "cell_type": "code",
   "execution_count": null,
   "id": "601b7182-cc43-4492-9982-e62fa13768a0",
   "metadata": {},
   "outputs": [],
   "source": []
  }
 ],
 "metadata": {
  "kernelspec": {
   "display_name": "Python 3 (ipykernel)",
   "language": "python",
   "name": "python3"
  },
  "language_info": {
   "codemirror_mode": {
    "name": "ipython",
    "version": 3
   },
   "file_extension": ".py",
   "mimetype": "text/x-python",
   "name": "python",
   "nbconvert_exporter": "python",
   "pygments_lexer": "ipython3",
   "version": "3.9.7"
  }
 },
 "nbformat": 4,
 "nbformat_minor": 5
}
